{
 "cells": [
  {
   "cell_type": "code",
   "execution_count": 2,
   "metadata": {
    "nbpresent": {
     "id": "c810e628-a282-4ec9-8d39-e9a8778d0918"
    }
   },
   "outputs": [],
   "source": [
    "from sklearn.model_selection import KFold\n",
    "import numpy as np"
   ]
  },
  {
   "cell_type": "code",
   "execution_count": 55,
   "metadata": {
    "nbpresent": {
     "id": "05407b77-f6db-45df-ae80-620f9c983856"
    }
   },
   "outputs": [
    {
     "data": {
      "text/plain": [
       "3"
      ]
     },
     "execution_count": 55,
     "metadata": {},
     "output_type": "execute_result"
    }
   ],
   "source": [
    "X = np.array([[1, 2], [3, 4], [5, 6], [7, 8]])\n",
    "y = np.array([1, 2, 3, 4])\n",
    "kf = KFold(n_splits=3)\n",
    "kf.get_n_splits(X)"
   ]
  },
  {
   "cell_type": "code",
   "execution_count": 56,
   "metadata": {
    "nbpresent": {
     "id": "f622b3f8-c3a0-4733-b06d-d77facf34ac5"
    }
   },
   "outputs": [
    {
     "name": "stdout",
     "output_type": "stream",
     "text": [
      "[2 3] [0 1]\n",
      "[0 1 3] [2]\n",
      "[0 1 2] [3]\n"
     ]
    },
    {
     "data": {
      "text/plain": [
       "[None, None, None]"
      ]
     },
     "execution_count": 56,
     "metadata": {},
     "output_type": "execute_result"
    }
   ],
   "source": [
    "[print(i, j) for i, j in kf.split(X)]"
   ]
  },
  {
   "cell_type": "code",
   "execution_count": 59,
   "metadata": {
    "nbpresent": {
     "id": "f4c4e23d-8dd6-43e6-8d08-948c8114cd43"
    }
   },
   "outputs": [
    {
     "name": "stdout",
     "output_type": "stream",
     "text": [
      "(array([2, 3]), array([0, 1]))\n",
      "\n",
      "(array([0, 1, 3]), array([2]))\n",
      "\n",
      "(array([0, 1, 2]), array([3]))\n"
     ]
    }
   ],
   "source": [
    "a, b, c = kf.split(X)\n",
    "print(a)\n",
    "print()\n",
    "print(b)\n",
    "print()\n",
    "print(c)"
   ]
  },
  {
   "cell_type": "code",
   "execution_count": 65,
   "metadata": {
    "nbpresent": {
     "id": "3bc82d29-c8e7-4a7d-800e-5db0cb26dc9d"
    }
   },
   "outputs": [
    {
     "name": "stdout",
     "output_type": "stream",
     "text": [
      "[[1 2]\n",
      " [3 4]\n",
      " [5 6]\n",
      " [7 8]]\n",
      "[1 2 3 4]\n",
      "\n",
      "TRAIN: [2 3] TEST: [0 1]\n",
      "[[5 6]\n",
      " [7 8]]\n",
      "[[1 2]\n",
      " [3 4]]\n",
      "[3 4]\n",
      "[1 2]\n",
      "\n",
      "TRAIN: [0 1 3] TEST: [2]\n",
      "[[1 2]\n",
      " [3 4]\n",
      " [7 8]]\n",
      "[[5 6]]\n",
      "[1 2 4]\n",
      "[3]\n",
      "\n",
      "TRAIN: [0 1 2] TEST: [3]\n",
      "[[1 2]\n",
      " [3 4]\n",
      " [5 6]]\n",
      "[[7 8]]\n",
      "[1 2 3]\n",
      "[4]\n",
      "\n"
     ]
    }
   ],
   "source": [
    "print(X)\n",
    "print(y)\n",
    "print()\n",
    "\n",
    "for i in range(1):\n",
    "    for train_index, test_index in kf.split(X):\n",
    "        print(\"TRAIN:\", train_index, \"TEST:\", test_index)\n",
    "\n",
    "        X_train, X_test = X[train_index], X[test_index]\n",
    "        print(X_train)\n",
    "        print(X_test)\n",
    "\n",
    "        y_train, y_test = y[train_index], y[test_index]\n",
    "        print(y_train)\n",
    "        print(y_test)\n",
    "\n",
    "        print()"
   ]
  },
  {
   "cell_type": "code",
   "execution_count": null,
   "metadata": {
    "nbpresent": {
     "id": "278331b6-e971-4c3b-bac7-f649693b872a"
    }
   },
   "outputs": [],
   "source": []
  },
  {
   "cell_type": "code",
   "execution_count": 63,
   "metadata": {},
   "outputs": [
    {
     "data": {
      "text/plain": [
       "5"
      ]
     },
     "execution_count": 63,
     "metadata": {},
     "output_type": "execute_result"
    }
   ],
   "source": [
    "min([i for i in range(6)], key=lambda n: (n-6)**2)"
   ]
  },
  {
   "cell_type": "code",
   "execution_count": null,
   "metadata": {},
   "outputs": [],
   "source": []
  },
  {
   "cell_type": "code",
   "execution_count": 73,
   "metadata": {},
   "outputs": [],
   "source": [
    "d = dict()\n",
    "\n",
    "for n in range(10):\n",
    "\n",
    "    try:\n",
    "        d[n] = list()\n",
    "        \n",
    "        for i in range(5):\n",
    "            d[n].append(n+i)\n",
    "\n",
    "    except Exception as e:\n",
    "        pass"
   ]
  },
  {
   "cell_type": "code",
   "execution_count": 80,
   "metadata": {},
   "outputs": [
    {
     "data": {
      "text/plain": [
       "[(0, [0, 1, 2, 3, 4], 2.0),\n",
       " (1, [1, 2, 3, 4, 5], 3.0),\n",
       " (2, [2, 3, 4, 5, 6], 4.0),\n",
       " (3, [3, 4, 5, 6, 7], 5.0),\n",
       " (4, [4, 5, 6, 7, 8], 6.0),\n",
       " (5, [5, 6, 7, 8, 9], 7.0),\n",
       " (6, [6, 7, 8, 9, 10], 8.0),\n",
       " (7, [7, 8, 9, 10, 11], 9.0),\n",
       " (8, [8, 9, 10, 11, 12], 10.0),\n",
       " (9, [9, 10, 11, 12, 13], 11.0)]"
      ]
     },
     "execution_count": 80,
     "metadata": {},
     "output_type": "execute_result"
    }
   ],
   "source": [
    "[(item[0], item[1], np.mean(item[1])) for item in d.items()]"
   ]
  },
  {
   "cell_type": "code",
   "execution_count": 88,
   "metadata": {},
   "outputs": [
    {
     "data": {
      "text/plain": [
       "0"
      ]
     },
     "execution_count": 88,
     "metadata": {},
     "output_type": "execute_result"
    }
   ],
   "source": [
    "min(d.items(), key=lambda x: (np.mean(x[1])-0)**2 )[0]"
   ]
  },
  {
   "cell_type": "code",
   "execution_count": null,
   "metadata": {},
   "outputs": [],
   "source": []
  }
 ],
 "metadata": {
  "kernelspec": {
   "display_name": "Python [conda env:aind]",
   "language": "python",
   "name": "conda-env-aind-py"
  },
  "language_info": {
   "codemirror_mode": {
    "name": "ipython",
    "version": 3
   },
   "file_extension": ".py",
   "mimetype": "text/x-python",
   "name": "python",
   "nbconvert_exporter": "python",
   "pygments_lexer": "ipython3",
   "version": "3.5.4"
  }
 },
 "nbformat": 4,
 "nbformat_minor": 2
}
